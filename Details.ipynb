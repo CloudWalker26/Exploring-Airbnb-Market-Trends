{
 "cells": [
  {
   "cell_type": "raw",
   "id": "61fa1b69",
   "metadata": {},
   "source": [
    "You are a consultant working for a real estate start-up and have been asked to look into the short-term rental market in New York, so you've gathered Airbnb listing data from several different sources. You'll examine this data to answer the following questions, but you'll need to combine the different files from your three sources into one dataset and clean it in order to calculate the metrics you're interested in.\n",
    "\n",
    "Your task is to create a dictionary called airbnb_analysis with seven variables: avg_price, average_price_per_month, difference, room_frequencies, first_reviewed, last_reviewed, and prices_by_borough."
   ]
  },
  {
   "cell_type": "raw",
   "id": "e60a751f",
   "metadata": {},
   "source": [
    "Welcome to New York City, one of the most-visited cities in the world. There are many Airbnb listings in New York City to meet the high demand for temporary lodging for travelers, which can be anywhere between a few nights to many months. In this notebook, we will take a closer look at the New York Airbnb market by combining data from multiple file types like .csv, .tsv, and .xlsx.\n",
    "\n",
    "Recall that CSV, TSV, and Excel files are three common formats for storing data. Three files containing data on 2019 Airbnb listings are available to you:\n",
    "\n",
    "data/airbnb_price.csv\n",
    "\n",
    "listing_id: unique identifier of listing\n",
    "price: nightly listing price in USD\n",
    "nbhood_full: name of borough and neighborhood where listing is located\n",
    "\n",
    "data/airbnb_room_type.xlsx This is an Excel file containing data on Airbnb listing descriptions and room types.\n",
    "\n",
    "listing_id: unique identifier of listing\n",
    "description: listing description\n",
    "room_type: Airbnb has three types of rooms: shared rooms, private rooms, and entire homes/apartments\n",
    "\n",
    "data/airbnb_last_review.tsv This is a TSV file containing data on Airbnb host names and review dates.\n",
    "\n",
    "listing_id: unique identifier of listing\n",
    "host_name: name of listing host\n",
    "last_review: date when the listing was last reviewed\n",
    "\n",
    "Our goals are to convert untidy data into appropriate formats to analyze, and answer key questions including:\n",
    "\n",
    "What is the average price, per night, of an Airbnb listing in NYC?\n",
    "How does the average price of an Airbnb listing, per month, compare to the private rental market?\n",
    "How many adverts are for private rooms?\n",
    "How do Airbnb listing prices compare across the five NYC boroughs?"
   ]
  }
 ],
 "metadata": {
  "kernelspec": {
   "display_name": "Python 3 (ipykernel)",
   "language": "python",
   "name": "python3"
  },
  "language_info": {
   "codemirror_mode": {
    "name": "ipython",
    "version": 3
   },
   "file_extension": ".py",
   "mimetype": "text/x-python",
   "name": "python",
   "nbconvert_exporter": "python",
   "pygments_lexer": "ipython3",
   "version": "3.10.9"
  }
 },
 "nbformat": 4,
 "nbformat_minor": 5
}
